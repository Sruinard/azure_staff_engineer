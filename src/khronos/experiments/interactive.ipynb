{
 "cells": [
  {
   "cell_type": "code",
   "execution_count": 14,
   "metadata": {},
   "outputs": [],
   "source": [
    "%load_ext autoreload\n",
    "%autoreload 2\n",
    "# chdir to parent directory of current notebook\n",
    "import sys\n",
    "sys.path.append('../')\n",
    "\n",
    "import pandas as pd\n",
    "from khronos import transform\n",
    "import jax\n",
    "import jax.numpy as jnp\n",
    "import flax.linen as nn\n"
   ]
  },
  {
   "cell_type": "code",
   "execution_count": 39,
   "metadata": {},
   "outputs": [],
   "source": [
    "import os\n",
    "BASE_DIR = os.path.dirname(os.path.dirname(os.path.abspath('__file__')))\n",
    "ARTIFACT_DIR = f'{BASE_DIR}/artifacts'\n",
    "INPUT_PATH = f'{ARTIFACT_DIR}/data/input.csv'\n"
   ]
  },
  {
   "cell_type": "code",
   "execution_count": 16,
   "metadata": {},
   "outputs": [],
   "source": [
    "dataset = pd.read_csv(os.path.join(BASE_DIR, './artifacts/data/raw.csv'), index_col=0, header=[0, 1]).sort_index(axis=1)"
   ]
  },
  {
   "cell_type": "code",
   "execution_count": 18,
   "metadata": {},
   "outputs": [
    {
     "data": {
      "text/html": [
       "<div>\n",
       "<style scoped>\n",
       "    .dataframe tbody tr th:only-of-type {\n",
       "        vertical-align: middle;\n",
       "    }\n",
       "\n",
       "    .dataframe tbody tr th {\n",
       "        vertical-align: top;\n",
       "    }\n",
       "\n",
       "    .dataframe thead th {\n",
       "        text-align: right;\n",
       "    }\n",
       "</style>\n",
       "<table border=\"1\" class=\"dataframe\">\n",
       "  <thead>\n",
       "    <tr style=\"text-align: right;\">\n",
       "      <th></th>\n",
       "      <th>close</th>\n",
       "      <th>high</th>\n",
       "      <th>low</th>\n",
       "      <th>open</th>\n",
       "      <th>volume</th>\n",
       "      <th>ticker</th>\n",
       "      <th>timestamp_in_seconds</th>\n",
       "    </tr>\n",
       "    <tr>\n",
       "      <th>timestamp</th>\n",
       "      <th></th>\n",
       "      <th></th>\n",
       "      <th></th>\n",
       "      <th></th>\n",
       "      <th></th>\n",
       "      <th></th>\n",
       "      <th></th>\n",
       "    </tr>\n",
       "  </thead>\n",
       "  <tbody>\n",
       "    <tr>\n",
       "      <th>2017-09-11 09:30:00</th>\n",
       "      <td>44.01</td>\n",
       "      <td>44.05</td>\n",
       "      <td>44.01</td>\n",
       "      <td>44.01</td>\n",
       "      <td>39049.0</td>\n",
       "      <td>AAL</td>\n",
       "      <td>1505122200</td>\n",
       "    </tr>\n",
       "    <tr>\n",
       "      <th>2017-09-11 09:30:00</th>\n",
       "      <td>160.57</td>\n",
       "      <td>160.62</td>\n",
       "      <td>160.50</td>\n",
       "      <td>160.50</td>\n",
       "      <td>407091.0</td>\n",
       "      <td>AAPL</td>\n",
       "      <td>1505122200</td>\n",
       "    </tr>\n",
       "    <tr>\n",
       "      <th>2017-09-11 09:30:00</th>\n",
       "      <td>84.53</td>\n",
       "      <td>84.53</td>\n",
       "      <td>84.46</td>\n",
       "      <td>84.46</td>\n",
       "      <td>200.0</td>\n",
       "      <td>ABBV</td>\n",
       "      <td>1505122200</td>\n",
       "    </tr>\n",
       "    <tr>\n",
       "      <th>2017-09-11 09:30:00</th>\n",
       "      <td>83.24</td>\n",
       "      <td>83.33</td>\n",
       "      <td>83.24</td>\n",
       "      <td>83.33</td>\n",
       "      <td>13302.0</td>\n",
       "      <td>ABC</td>\n",
       "      <td>1505122200</td>\n",
       "    </tr>\n",
       "    <tr>\n",
       "      <th>2017-09-11 09:30:00</th>\n",
       "      <td>134.00</td>\n",
       "      <td>134.62</td>\n",
       "      <td>133.61</td>\n",
       "      <td>134.62</td>\n",
       "      <td>23371.0</td>\n",
       "      <td>ACN</td>\n",
       "      <td>1505122200</td>\n",
       "    </tr>\n",
       "  </tbody>\n",
       "</table>\n",
       "</div>"
      ],
      "text/plain": [
       "                      close    high     low    open    volume ticker  \\\n",
       "timestamp                                                              \n",
       "2017-09-11 09:30:00   44.01   44.05   44.01   44.01   39049.0    AAL   \n",
       "2017-09-11 09:30:00  160.57  160.62  160.50  160.50  407091.0   AAPL   \n",
       "2017-09-11 09:30:00   84.53   84.53   84.46   84.46     200.0   ABBV   \n",
       "2017-09-11 09:30:00   83.24   83.33   83.24   83.33   13302.0    ABC   \n",
       "2017-09-11 09:30:00  134.00  134.62  133.61  134.62   23371.0    ACN   \n",
       "\n",
       "                     timestamp_in_seconds  \n",
       "timestamp                                  \n",
       "2017-09-11 09:30:00            1505122200  \n",
       "2017-09-11 09:30:00            1505122200  \n",
       "2017-09-11 09:30:00            1505122200  \n",
       "2017-09-11 09:30:00            1505122200  \n",
       "2017-09-11 09:30:00            1505122200  "
      ]
     },
     "execution_count": 18,
     "metadata": {},
     "output_type": "execute_result"
    }
   ],
   "source": [
    "flat_df = transform.flatten_dataset(dataset)\n",
    "df_with_index_as_datetime = transform.convert_index_to_datetime(flat_df)\n",
    "df_with_timestamp = transform.add_timestamp_in_seconds_as_raw_input(df_with_index_as_datetime)\n",
    "df_with_timestamp.head()"
   ]
  },
  {
   "cell_type": "code",
   "execution_count": 19,
   "metadata": {},
   "outputs": [],
   "source": [
    "# store artifact as input.csv\n",
    "df_with_timestamp.to_csv(os.path.join(BASE_DIR, './artifacts/data/input.csv'))"
   ]
  },
  {
   "cell_type": "code",
   "execution_count": 32,
   "metadata": {},
   "outputs": [],
   "source": [
    "raw_input_df = pd.read_csv(os.path.join(BASE_DIR, './artifacts/data/input.csv'), index_col=0, parse_dates=True)"
   ]
  },
  {
   "cell_type": "code",
   "execution_count": 33,
   "metadata": {},
   "outputs": [],
   "source": [
    "from khronos.task import PipelineConfig\n",
    "\n",
    "p_config = PipelineConfig(\n",
    "    artifact_dir='./artifacts',\n",
    "    train_split=0.8,\n",
    "    val_split=0.1,\n",
    "    test_split=0.1,\n",
    ")"
   ]
  },
  {
   "cell_type": "code",
   "execution_count": 59,
   "metadata": {},
   "outputs": [],
   "source": [
    "# import train_test_split\n",
    "\n",
    "from sklearn.model_selection import train_test_split\n",
    "from sklearn.preprocessing import StandardScaler"
   ]
  },
  {
   "cell_type": "code",
   "execution_count": 43,
   "metadata": {},
   "outputs": [],
   "source": [
    "from khronos.data_loader import RawInputArtifact\n",
    "\n",
    "example_gen = RawInputArtifact(INPUT_PATH, ARTIFACT_DIR, p_config.train_split, p_config.val_split, p_config.test_split)"
   ]
  },
  {
   "cell_type": "code",
   "execution_count": 45,
   "metadata": {},
   "outputs": [
    {
     "data": {
      "text/plain": [
       "[{'name': 'train__split',\n",
       "  'path': '/Users/stefruinard/Library/CloudStorage/OneDrive-Microsoft/Documents/work/projects/202302 - Applications and Machine Learning/azure_staff_engineer/src/khronos/artifacts/example_gen/train.csv'},\n",
       " {'name': 'val__split',\n",
       "  'path': '/Users/stefruinard/Library/CloudStorage/OneDrive-Microsoft/Documents/work/projects/202302 - Applications and Machine Learning/azure_staff_engineer/src/khronos/artifacts/example_gen/val.csv'},\n",
       " {'name': 'test__split',\n",
       "  'path': '/Users/stefruinard/Library/CloudStorage/OneDrive-Microsoft/Documents/work/projects/202302 - Applications and Machine Learning/azure_staff_engineer/src/khronos/artifacts/example_gen/test.csv'}]"
      ]
     },
     "execution_count": 45,
     "metadata": {},
     "output_type": "execute_result"
    }
   ],
   "source": [
    "example_gen.run()"
   ]
  },
  {
   "cell_type": "code",
   "execution_count": 47,
   "metadata": {},
   "outputs": [],
   "source": [
    "train_df, val_df, test_df = example_gen.load_input_artifacts()"
   ]
  },
  {
   "cell_type": "code",
   "execution_count": 53,
   "metadata": {},
   "outputs": [
    {
     "name": "stdout",
     "output_type": "stream",
     "text": [
      "has_lookahead_bias: False\n"
     ]
    }
   ],
   "source": [
    "# verify no look-ahead bias between train, val, test dataframes using the index\n",
    "\n",
    "has_lookahead_bias = False\n",
    "datasets = [train_df, val_df, test_df]\n",
    "for i, (flag, dataset) in enumerate(zip(['train', 'val', 'test'], datasets)):\n",
    "    if i == 0:\n",
    "        continue\n",
    "    if dataset.index[0] < datasets[i-1].index[-1]:\n",
    "        print(f'dataset.index[0]: {dataset.index[0]}')\n",
    "        print(f'datasets[i-1].index[-1]: {datasets[i-1].index[-1]}')\n",
    "        has_lookahead_bias = True\n",
    "        break\n",
    "print(f'has_lookahead_bias: {has_lookahead_bias}')"
   ]
  },
  {
   "cell_type": "code",
   "execution_count": 75,
   "metadata": {},
   "outputs": [],
   "source": [
    "# fit train_df on RobustScaler\n",
    "\n",
    "columns_to_scale = ['open', 'high', 'low', 'close', 'volume']\n",
    "# compute max and min for each column\n",
    "max_values = train_df[columns_to_scale].max()\n",
    "min_values = train_df[columns_to_scale].min()\n",
    "\n",
    "\n",
    "\n"
   ]
  },
  {
   "cell_type": "code",
   "execution_count": 80,
   "metadata": {},
   "outputs": [
    {
     "data": {
      "text/plain": [
       "Array([1.9614500e+03, 1.9614500e+03, 1.9610900e+03, 1.9610900e+03,\n",
       "       2.3145858e+07], dtype=float32)"
      ]
     },
     "execution_count": 80,
     "metadata": {},
     "output_type": "execute_result"
    }
   ],
   "source": [
    "maxs = jnp.array(max_values)\n",
    "mins = jnp.array(min_values)\n"
   ]
  },
  {
   "cell_type": "code",
   "execution_count": 66,
   "metadata": {},
   "outputs": [],
   "source": [
    "\n",
    "\n",
    "# batch, seq_len, features\n",
    "batch = jnp.array([\n",
    "    [[1, 2, 3], [4, 5, 6]],\n",
    "    [[7, 8, 9], [10, 11, 12]],\n",
    "])\n"
   ]
  },
  {
   "cell_type": "code",
   "execution_count": 73,
   "metadata": {},
   "outputs": [],
   "source": [
    "def normalize(x, mins, maxs):\n",
    "    return (x - mins) / (maxs - mins)"
   ]
  },
  {
   "cell_type": "code",
   "execution_count": 74,
   "metadata": {},
   "outputs": [
    {
     "data": {
      "text/plain": [
       "Array([[[0.        , 0.09090909, 0.18181819],\n",
       "        [0.27272728, 0.36363637, 0.45454547]],\n",
       "\n",
       "       [[0.54545456, 0.6363636 , 0.72727275],\n",
       "        [0.8181818 , 0.90909094, 1.        ]]], dtype=float32)"
      ]
     },
     "execution_count": 74,
     "metadata": {},
     "output_type": "execute_result"
    }
   ],
   "source": [
    "mins, maxs = jnp.array([1, 1, 1]), jnp.array([12, 12, 12])\n",
    "normalize(batch, mins, maxs)"
   ]
  },
  {
   "cell_type": "code",
   "execution_count": null,
   "metadata": {},
   "outputs": [],
   "source": []
  }
 ],
 "metadata": {
  "kernelspec": {
   "display_name": ".venv",
   "language": "python",
   "name": "python3"
  },
  "language_info": {
   "codemirror_mode": {
    "name": "ipython",
    "version": 3
   },
   "file_extension": ".py",
   "mimetype": "text/x-python",
   "name": "python",
   "nbconvert_exporter": "python",
   "pygments_lexer": "ipython3",
   "version": "3.9.16"
  },
  "orig_nbformat": 4
 },
 "nbformat": 4,
 "nbformat_minor": 2
}
