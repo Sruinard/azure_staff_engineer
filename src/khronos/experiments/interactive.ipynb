{
 "cells": [
  {
   "cell_type": "code",
   "execution_count": 14,
   "metadata": {},
   "outputs": [],
   "source": [
    "%load_ext autoreload\n",
    "%autoreload 2\n",
    "# chdir to parent directory of current notebook\n",
    "import sys\n",
    "sys.path.append('../')\n",
    "\n",
    "import pandas as pd\n",
    "from khronos import transform"
   ]
  },
  {
   "cell_type": "code",
   "execution_count": 15,
   "metadata": {},
   "outputs": [],
   "source": [
    "import os\n",
    "BASE_DIR = os.path.dirname(os.path.dirname(os.path.abspath('__file__')))\n"
   ]
  },
  {
   "cell_type": "code",
   "execution_count": 16,
   "metadata": {},
   "outputs": [],
   "source": [
    "dataset = pd.read_csv(os.path.join(BASE_DIR, './artifacts/data/raw.csv'), index_col=0, header=[0, 1]).sort_index(axis=1)"
   ]
  },
  {
   "cell_type": "code",
   "execution_count": 18,
   "metadata": {},
   "outputs": [
    {
     "data": {
      "text/html": [
       "<div>\n",
       "<style scoped>\n",
       "    .dataframe tbody tr th:only-of-type {\n",
       "        vertical-align: middle;\n",
       "    }\n",
       "\n",
       "    .dataframe tbody tr th {\n",
       "        vertical-align: top;\n",
       "    }\n",
       "\n",
       "    .dataframe thead th {\n",
       "        text-align: right;\n",
       "    }\n",
       "</style>\n",
       "<table border=\"1\" class=\"dataframe\">\n",
       "  <thead>\n",
       "    <tr style=\"text-align: right;\">\n",
       "      <th></th>\n",
       "      <th>close</th>\n",
       "      <th>high</th>\n",
       "      <th>low</th>\n",
       "      <th>open</th>\n",
       "      <th>volume</th>\n",
       "      <th>ticker</th>\n",
       "      <th>timestamp_in_seconds</th>\n",
       "    </tr>\n",
       "    <tr>\n",
       "      <th>timestamp</th>\n",
       "      <th></th>\n",
       "      <th></th>\n",
       "      <th></th>\n",
       "      <th></th>\n",
       "      <th></th>\n",
       "      <th></th>\n",
       "      <th></th>\n",
       "    </tr>\n",
       "  </thead>\n",
       "  <tbody>\n",
       "    <tr>\n",
       "      <th>2017-09-11 09:30:00</th>\n",
       "      <td>44.01</td>\n",
       "      <td>44.05</td>\n",
       "      <td>44.01</td>\n",
       "      <td>44.01</td>\n",
       "      <td>39049.0</td>\n",
       "      <td>AAL</td>\n",
       "      <td>1505122200</td>\n",
       "    </tr>\n",
       "    <tr>\n",
       "      <th>2017-09-11 09:30:00</th>\n",
       "      <td>160.57</td>\n",
       "      <td>160.62</td>\n",
       "      <td>160.50</td>\n",
       "      <td>160.50</td>\n",
       "      <td>407091.0</td>\n",
       "      <td>AAPL</td>\n",
       "      <td>1505122200</td>\n",
       "    </tr>\n",
       "    <tr>\n",
       "      <th>2017-09-11 09:30:00</th>\n",
       "      <td>84.53</td>\n",
       "      <td>84.53</td>\n",
       "      <td>84.46</td>\n",
       "      <td>84.46</td>\n",
       "      <td>200.0</td>\n",
       "      <td>ABBV</td>\n",
       "      <td>1505122200</td>\n",
       "    </tr>\n",
       "    <tr>\n",
       "      <th>2017-09-11 09:30:00</th>\n",
       "      <td>83.24</td>\n",
       "      <td>83.33</td>\n",
       "      <td>83.24</td>\n",
       "      <td>83.33</td>\n",
       "      <td>13302.0</td>\n",
       "      <td>ABC</td>\n",
       "      <td>1505122200</td>\n",
       "    </tr>\n",
       "    <tr>\n",
       "      <th>2017-09-11 09:30:00</th>\n",
       "      <td>134.00</td>\n",
       "      <td>134.62</td>\n",
       "      <td>133.61</td>\n",
       "      <td>134.62</td>\n",
       "      <td>23371.0</td>\n",
       "      <td>ACN</td>\n",
       "      <td>1505122200</td>\n",
       "    </tr>\n",
       "  </tbody>\n",
       "</table>\n",
       "</div>"
      ],
      "text/plain": [
       "                      close    high     low    open    volume ticker  \\\n",
       "timestamp                                                              \n",
       "2017-09-11 09:30:00   44.01   44.05   44.01   44.01   39049.0    AAL   \n",
       "2017-09-11 09:30:00  160.57  160.62  160.50  160.50  407091.0   AAPL   \n",
       "2017-09-11 09:30:00   84.53   84.53   84.46   84.46     200.0   ABBV   \n",
       "2017-09-11 09:30:00   83.24   83.33   83.24   83.33   13302.0    ABC   \n",
       "2017-09-11 09:30:00  134.00  134.62  133.61  134.62   23371.0    ACN   \n",
       "\n",
       "                     timestamp_in_seconds  \n",
       "timestamp                                  \n",
       "2017-09-11 09:30:00            1505122200  \n",
       "2017-09-11 09:30:00            1505122200  \n",
       "2017-09-11 09:30:00            1505122200  \n",
       "2017-09-11 09:30:00            1505122200  \n",
       "2017-09-11 09:30:00            1505122200  "
      ]
     },
     "execution_count": 18,
     "metadata": {},
     "output_type": "execute_result"
    }
   ],
   "source": [
    "flat_df = transform.flatten_dataset(dataset)\n",
    "df_with_index_as_datetime = transform.convert_index_to_datetime(flat_df)\n",
    "df_with_timestamp = transform.add_timestamp_in_seconds_as_raw_input(df_with_index_as_datetime)\n",
    "df_with_timestamp.head()"
   ]
  },
  {
   "cell_type": "code",
   "execution_count": 19,
   "metadata": {},
   "outputs": [],
   "source": [
    "# store artifact as input.csv\n",
    "df_with_timestamp.to_csv(os.path.join(BASE_DIR, './artifacts/data/input.csv'))"
   ]
  },
  {
   "cell_type": "code",
   "execution_count": 20,
   "metadata": {},
   "outputs": [],
   "source": [
    "df_with_timestamp_loaded = pd.read_csv(os.path.join(BASE_DIR, './artifacts/data/input.csv'), index_col=0, parse_dates=True)"
   ]
  },
  {
   "cell_type": "code",
   "execution_count": 21,
   "metadata": {},
   "outputs": [
    {
     "data": {
      "text/plain": [
       "(20380661, 7)"
      ]
     },
     "execution_count": 21,
     "metadata": {},
     "output_type": "execute_result"
    }
   ],
   "source": [
    "df_with_timestamp.shape"
   ]
  },
  {
   "cell_type": "code",
   "execution_count": null,
   "metadata": {},
   "outputs": [],
   "source": []
  }
 ],
 "metadata": {
  "kernelspec": {
   "display_name": ".venv",
   "language": "python",
   "name": "python3"
  },
  "language_info": {
   "codemirror_mode": {
    "name": "ipython",
    "version": 3
   },
   "file_extension": ".py",
   "mimetype": "text/x-python",
   "name": "python",
   "nbconvert_exporter": "python",
   "pygments_lexer": "ipython3",
   "version": "3.9.16"
  },
  "orig_nbformat": 4
 },
 "nbformat": 4,
 "nbformat_minor": 2
}
